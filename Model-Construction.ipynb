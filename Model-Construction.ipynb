{
 "cells": [
  {
   "cell_type": "markdown",
   "metadata": {},
   "source": [
    "# Welcome Back\n",
    "\n",
    "...To the great unveiling of the **Brakefield Enterprises RPG Classifier&trade;**!\n",
    "\n",
    "In our previous notebook we showed you how we used the Reddit API to glean text data from posts and comments in the popular [rpg](https://www.reddit.com/r/rpg/new/) and [rpg_gamers](https://www.reddit.com/r/rpg_gamers/new/) subreddits.\n",
    "\n",
    "Now take a look at just how we turn that data into a useful decision-assisting model!"
   ]
  },
  {
   "cell_type": "code",
   "execution_count": 1,
   "metadata": {},
   "outputs": [],
   "source": [
    "import pandas as pd\n",
    "import numpy as np\n",
    "from sklearn.feature_extraction.text import CountVectorizer\n",
    "from sklearn.model_selection import train_test_split,GridSearchCV\n",
    "\n",
    "from sklearn.ensemble import VotingClassifier\n",
    "from sklearn.neighbors import KNeighborsClassifier\n",
    "from sklearn.linear_model import LogisticRegression\n",
    "from sklearn.preprocessing import StandardScaler\n",
    "from sklearn.naive_bayes import MultinomialNB\n",
    "from sklearn.ensemble import GradientBoostingClassifier,AdaBoostClassifier\n",
    "from sklearn.pipeline import Pipeline\n",
    "from sklearn.ensemble import RandomForestClassifier\n",
    "\n",
    "import requests\n",
    "import time\n",
    "import json\n",
    "from IPython.display import clear_output"
   ]
  },
  {
   "cell_type": "code",
   "execution_count": 2,
   "metadata": {},
   "outputs": [],
   "source": [
    "dfpp = pd.read_csv('./data/pen-and-paper.csv')\n",
    "dfvg = pd.read_csv('./data/video-game.csv')"
   ]
  },
  {
   "cell_type": "code",
   "execution_count": 3,
   "metadata": {},
   "outputs": [
    {
     "data": {
      "text/html": [
       "<div>\n",
       "<style scoped>\n",
       "    .dataframe tbody tr th:only-of-type {\n",
       "        vertical-align: middle;\n",
       "    }\n",
       "\n",
       "    .dataframe tbody tr th {\n",
       "        vertical-align: top;\n",
       "    }\n",
       "\n",
       "    .dataframe thead th {\n",
       "        text-align: right;\n",
       "    }\n",
       "</style>\n",
       "<table border=\"1\" class=\"dataframe\">\n",
       "  <thead>\n",
       "    <tr style=\"text-align: right;\">\n",
       "      <th></th>\n",
       "      <th>sub</th>\n",
       "      <th>name</th>\n",
       "      <th>text</th>\n",
       "      <th>url</th>\n",
       "      <th>comments</th>\n",
       "    </tr>\n",
       "  </thead>\n",
       "  <tbody>\n",
       "    <tr>\n",
       "      <th>0</th>\n",
       "      <td>rpg</td>\n",
       "      <td>t3_a7pwer</td>\n",
       "      <td>What are your favorite pre-made campaigns?I do...</td>\n",
       "      <td>https://www.reddit.com/r/rpg/comments/a7pwer/w...</td>\n",
       "      <td>[\"Operation Morpheus for Aftermath!.  It is th...</td>\n",
       "    </tr>\n",
       "    <tr>\n",
       "      <th>1</th>\n",
       "      <td>rpg</td>\n",
       "      <td>t3_a7pprr</td>\n",
       "      <td>50 Fantasy RPG Quest Ideas</td>\n",
       "      <td>https://www.reddit.com/r/rpg/comments/a7pprr/5...</td>\n",
       "      <td>NaN</td>\n",
       "    </tr>\n",
       "    <tr>\n",
       "      <th>2</th>\n",
       "      <td>rpg</td>\n",
       "      <td>t3_a7pdaz</td>\n",
       "      <td>What system should I use for a fantasy army vs...</td>\n",
       "      <td>https://www.reddit.com/r/rpg/comments/a7pdaz/w...</td>\n",
       "      <td>['Gurps. Also check out the novel The Doomfare...</td>\n",
       "    </tr>\n",
       "    <tr>\n",
       "      <th>3</th>\n",
       "      <td>rpg</td>\n",
       "      <td>t3_a7pd5z</td>\n",
       "      <td>Physical Purchases 2018I just did an inventory...</td>\n",
       "      <td>https://www.reddit.com/r/rpg/comments/a7pd5z/p...</td>\n",
       "      <td>[\"It's only a problem if you don't play them a...</td>\n",
       "    </tr>\n",
       "    <tr>\n",
       "      <th>4</th>\n",
       "      <td>rpg</td>\n",
       "      <td>t3_a7opa2</td>\n",
       "      <td>Roleplaying Intelligent Creatures in D&amp;amp;D 5...</td>\n",
       "      <td>https://www.reddit.com/r/rpg/comments/a7opa2/r...</td>\n",
       "      <td>NaN</td>\n",
       "    </tr>\n",
       "  </tbody>\n",
       "</table>\n",
       "</div>"
      ],
      "text/plain": [
       "   sub       name                                               text  \\\n",
       "0  rpg  t3_a7pwer  What are your favorite pre-made campaigns?I do...   \n",
       "1  rpg  t3_a7pprr                         50 Fantasy RPG Quest Ideas   \n",
       "2  rpg  t3_a7pdaz  What system should I use for a fantasy army vs...   \n",
       "3  rpg  t3_a7pd5z  Physical Purchases 2018I just did an inventory...   \n",
       "4  rpg  t3_a7opa2  Roleplaying Intelligent Creatures in D&amp;D 5...   \n",
       "\n",
       "                                                 url  \\\n",
       "0  https://www.reddit.com/r/rpg/comments/a7pwer/w...   \n",
       "1  https://www.reddit.com/r/rpg/comments/a7pprr/5...   \n",
       "2  https://www.reddit.com/r/rpg/comments/a7pdaz/w...   \n",
       "3  https://www.reddit.com/r/rpg/comments/a7pd5z/p...   \n",
       "4  https://www.reddit.com/r/rpg/comments/a7opa2/r...   \n",
       "\n",
       "                                            comments  \n",
       "0  [\"Operation Morpheus for Aftermath!.  It is th...  \n",
       "1                                                NaN  \n",
       "2  ['Gurps. Also check out the novel The Doomfare...  \n",
       "3  [\"It's only a problem if you don't play them a...  \n",
       "4                                                NaN  "
      ]
     },
     "execution_count": 3,
     "metadata": {},
     "output_type": "execute_result"
    }
   ],
   "source": [
    "dfpp.head()"
   ]
  },
  {
   "cell_type": "code",
   "execution_count": 4,
   "metadata": {},
   "outputs": [
    {
     "name": "stdout",
     "output_type": "stream",
     "text": [
      "<class 'pandas.core.frame.DataFrame'>\n",
      "RangeIndex: 993 entries, 0 to 992\n",
      "Data columns (total 5 columns):\n",
      "sub         993 non-null object\n",
      "name        993 non-null object\n",
      "text        993 non-null object\n",
      "url         993 non-null object\n",
      "comments    857 non-null object\n",
      "dtypes: object(5)\n",
      "memory usage: 38.9+ KB\n"
     ]
    }
   ],
   "source": [
    "dfpp.info()"
   ]
  },
  {
   "cell_type": "code",
   "execution_count": 5,
   "metadata": {},
   "outputs": [
    {
     "data": {
      "text/html": [
       "<div>\n",
       "<style scoped>\n",
       "    .dataframe tbody tr th:only-of-type {\n",
       "        vertical-align: middle;\n",
       "    }\n",
       "\n",
       "    .dataframe tbody tr th {\n",
       "        vertical-align: top;\n",
       "    }\n",
       "\n",
       "    .dataframe thead th {\n",
       "        text-align: right;\n",
       "    }\n",
       "</style>\n",
       "<table border=\"1\" class=\"dataframe\">\n",
       "  <thead>\n",
       "    <tr style=\"text-align: right;\">\n",
       "      <th></th>\n",
       "      <th>sub</th>\n",
       "      <th>name</th>\n",
       "      <th>text</th>\n",
       "      <th>url</th>\n",
       "      <th>comments</th>\n",
       "    </tr>\n",
       "  </thead>\n",
       "  <tbody>\n",
       "    <tr>\n",
       "      <th>0</th>\n",
       "      <td>rpg_gamers</td>\n",
       "      <td>t3_a7q3sm</td>\n",
       "      <td>Fallout Inspired RPG Atom Released</td>\n",
       "      <td>https://www.reddit.com/r/rpg_gamers/comments/a...</td>\n",
       "      <td>NaN</td>\n",
       "    </tr>\n",
       "    <tr>\n",
       "      <th>1</th>\n",
       "      <td>rpg_gamers</td>\n",
       "      <td>t3_a7olpq</td>\n",
       "      <td>Check out new game in the making !</td>\n",
       "      <td>https://www.reddit.com/r/rpg_gamers/comments/a...</td>\n",
       "      <td>NaN</td>\n",
       "    </tr>\n",
       "    <tr>\n",
       "      <th>2</th>\n",
       "      <td>rpg_gamers</td>\n",
       "      <td>t3_a7o0qt</td>\n",
       "      <td>People who've played Ni No Kuni 2.https://yout...</td>\n",
       "      <td>https://www.reddit.com/r/rpg_gamers/comments/a...</td>\n",
       "      <td>NaN</td>\n",
       "    </tr>\n",
       "    <tr>\n",
       "      <th>3</th>\n",
       "      <td>rpg_gamers</td>\n",
       "      <td>t3_a7mq9q</td>\n",
       "      <td>Open-World hardcore RPG 'Outward’ Trailer</td>\n",
       "      <td>https://www.reddit.com/r/rpg_gamers/comments/a...</td>\n",
       "      <td>['Looks good, but I do hope there is a story t...</td>\n",
       "    </tr>\n",
       "    <tr>\n",
       "      <th>4</th>\n",
       "      <td>rpg_gamers</td>\n",
       "      <td>t3_a7mmjs</td>\n",
       "      <td>The Philosophy of Planescape: Torment</td>\n",
       "      <td>https://www.reddit.com/r/rpg_gamers/comments/a...</td>\n",
       "      <td>['Nice channel, thanks for sharing. ']</td>\n",
       "    </tr>\n",
       "  </tbody>\n",
       "</table>\n",
       "</div>"
      ],
      "text/plain": [
       "          sub       name                                               text  \\\n",
       "0  rpg_gamers  t3_a7q3sm                 Fallout Inspired RPG Atom Released   \n",
       "1  rpg_gamers  t3_a7olpq                 Check out new game in the making !   \n",
       "2  rpg_gamers  t3_a7o0qt  People who've played Ni No Kuni 2.https://yout...   \n",
       "3  rpg_gamers  t3_a7mq9q          Open-World hardcore RPG 'Outward’ Trailer   \n",
       "4  rpg_gamers  t3_a7mmjs              The Philosophy of Planescape: Torment   \n",
       "\n",
       "                                                 url  \\\n",
       "0  https://www.reddit.com/r/rpg_gamers/comments/a...   \n",
       "1  https://www.reddit.com/r/rpg_gamers/comments/a...   \n",
       "2  https://www.reddit.com/r/rpg_gamers/comments/a...   \n",
       "3  https://www.reddit.com/r/rpg_gamers/comments/a...   \n",
       "4  https://www.reddit.com/r/rpg_gamers/comments/a...   \n",
       "\n",
       "                                            comments  \n",
       "0                                                NaN  \n",
       "1                                                NaN  \n",
       "2                                                NaN  \n",
       "3  ['Looks good, but I do hope there is a story t...  \n",
       "4             ['Nice channel, thanks for sharing. ']  "
      ]
     },
     "execution_count": 5,
     "metadata": {},
     "output_type": "execute_result"
    }
   ],
   "source": [
    "dfvg.head()"
   ]
  },
  {
   "cell_type": "code",
   "execution_count": 6,
   "metadata": {},
   "outputs": [
    {
     "name": "stdout",
     "output_type": "stream",
     "text": [
      "<class 'pandas.core.frame.DataFrame'>\n",
      "RangeIndex: 1000 entries, 0 to 999\n",
      "Data columns (total 5 columns):\n",
      "sub         1000 non-null object\n",
      "name        1000 non-null object\n",
      "text        1000 non-null object\n",
      "url         1000 non-null object\n",
      "comments    890 non-null object\n",
      "dtypes: object(5)\n",
      "memory usage: 39.1+ KB\n"
     ]
    }
   ],
   "source": [
    "dfvg.info()"
   ]
  },
  {
   "cell_type": "code",
   "execution_count": 7,
   "metadata": {},
   "outputs": [
    {
     "name": "stdout",
     "output_type": "stream",
     "text": [
      "<class 'pandas.core.frame.DataFrame'>\n",
      "RangeIndex: 1993 entries, 0 to 1992\n",
      "Data columns (total 5 columns):\n",
      "sub         1993 non-null int64\n",
      "name        1993 non-null object\n",
      "text        1993 non-null object\n",
      "url         1993 non-null object\n",
      "comments    1747 non-null object\n",
      "dtypes: int64(1), object(4)\n",
      "memory usage: 77.9+ KB\n"
     ]
    }
   ],
   "source": [
    "# Looking ahead towards modeling, I'm going to binarize the sub feature\n",
    "dfpp['sub'] = 1\n",
    "dfvg['sub'] = 0\n",
    "\n",
    "# And everything should be in one dataframe\n",
    "df = pd.concat([dfpp,dfvg])\n",
    "df.reset_index(drop=True,inplace=True)\n",
    "df.info()"
   ]
  },
  {
   "cell_type": "code",
   "execution_count": 8,
   "metadata": {
    "scrolled": true
   },
   "outputs": [],
   "source": [
    "# We won't need the 'name' or 'url' columns for our purposes:\n",
    "df.drop(columns=['name','url'],inplace=True)"
   ]
  },
  {
   "cell_type": "code",
   "execution_count": 9,
   "metadata": {},
   "outputs": [],
   "source": [
    "# We're going to use a CountVectorizer on our text, which will work best with a single\n",
    "# string for each row:\n",
    "\n",
    "def text_blob(row):\n",
    "    if type(df['comments'][row]) == str:\n",
    "        return df['text'][row] + df['comments'][row]\n",
    "    else:\n",
    "        return df['text'][row]"
   ]
  },
  {
   "cell_type": "code",
   "execution_count": 10,
   "metadata": {},
   "outputs": [
    {
     "data": {
      "text/html": [
       "<div>\n",
       "<style scoped>\n",
       "    .dataframe tbody tr th:only-of-type {\n",
       "        vertical-align: middle;\n",
       "    }\n",
       "\n",
       "    .dataframe tbody tr th {\n",
       "        vertical-align: top;\n",
       "    }\n",
       "\n",
       "    .dataframe thead th {\n",
       "        text-align: right;\n",
       "    }\n",
       "</style>\n",
       "<table border=\"1\" class=\"dataframe\">\n",
       "  <thead>\n",
       "    <tr style=\"text-align: right;\">\n",
       "      <th></th>\n",
       "      <th>sub</th>\n",
       "      <th>text</th>\n",
       "      <th>comments</th>\n",
       "      <th>alltext</th>\n",
       "    </tr>\n",
       "  </thead>\n",
       "  <tbody>\n",
       "    <tr>\n",
       "      <th>0</th>\n",
       "      <td>1</td>\n",
       "      <td>What are your favorite pre-made campaigns?I do...</td>\n",
       "      <td>[\"Operation Morpheus for Aftermath!.  It is th...</td>\n",
       "      <td>What are your favorite pre-made campaigns?I do...</td>\n",
       "    </tr>\n",
       "    <tr>\n",
       "      <th>1</th>\n",
       "      <td>1</td>\n",
       "      <td>50 Fantasy RPG Quest Ideas</td>\n",
       "      <td>NaN</td>\n",
       "      <td>50 Fantasy RPG Quest Ideas</td>\n",
       "    </tr>\n",
       "    <tr>\n",
       "      <th>2</th>\n",
       "      <td>1</td>\n",
       "      <td>What system should I use for a fantasy army vs...</td>\n",
       "      <td>['Gurps. Also check out the novel The Doomfare...</td>\n",
       "      <td>What system should I use for a fantasy army vs...</td>\n",
       "    </tr>\n",
       "    <tr>\n",
       "      <th>3</th>\n",
       "      <td>1</td>\n",
       "      <td>Physical Purchases 2018I just did an inventory...</td>\n",
       "      <td>[\"It's only a problem if you don't play them a...</td>\n",
       "      <td>Physical Purchases 2018I just did an inventory...</td>\n",
       "    </tr>\n",
       "    <tr>\n",
       "      <th>4</th>\n",
       "      <td>1</td>\n",
       "      <td>Roleplaying Intelligent Creatures in D&amp;amp;D 5...</td>\n",
       "      <td>NaN</td>\n",
       "      <td>Roleplaying Intelligent Creatures in D&amp;amp;D 5...</td>\n",
       "    </tr>\n",
       "  </tbody>\n",
       "</table>\n",
       "</div>"
      ],
      "text/plain": [
       "   sub                                               text  \\\n",
       "0    1  What are your favorite pre-made campaigns?I do...   \n",
       "1    1                         50 Fantasy RPG Quest Ideas   \n",
       "2    1  What system should I use for a fantasy army vs...   \n",
       "3    1  Physical Purchases 2018I just did an inventory...   \n",
       "4    1  Roleplaying Intelligent Creatures in D&amp;D 5...   \n",
       "\n",
       "                                            comments  \\\n",
       "0  [\"Operation Morpheus for Aftermath!.  It is th...   \n",
       "1                                                NaN   \n",
       "2  ['Gurps. Also check out the novel The Doomfare...   \n",
       "3  [\"It's only a problem if you don't play them a...   \n",
       "4                                                NaN   \n",
       "\n",
       "                                             alltext  \n",
       "0  What are your favorite pre-made campaigns?I do...  \n",
       "1                         50 Fantasy RPG Quest Ideas  \n",
       "2  What system should I use for a fantasy army vs...  \n",
       "3  Physical Purchases 2018I just did an inventory...  \n",
       "4  Roleplaying Intelligent Creatures in D&amp;D 5...  "
      ]
     },
     "execution_count": 10,
     "metadata": {},
     "output_type": "execute_result"
    }
   ],
   "source": [
    "df['alltext'] = [text_blob(i) for i in range(len(df))]\n",
    "df.head()"
   ]
  },
  {
   "cell_type": "code",
   "execution_count": 11,
   "metadata": {},
   "outputs": [],
   "source": [
    "# Looking good, df! Now to establish and split our modeling data\n",
    "X = df['alltext']\n",
    "y = df['sub']\n",
    "\n",
    "# Our data is about a 50/50 split, but I always like to stratify just in case\n",
    "X_train,X_test,y_train,y_test = train_test_split(X,y,stratify=y,random_state=42)"
   ]
  },
  {
   "cell_type": "code",
   "execution_count": 12,
   "metadata": {},
   "outputs": [],
   "source": [
    "# Here we establish our CountVectorizer. For starters I'll only include the 1000 most\n",
    "# common words of each subreddit, and will exclude English stop words\n",
    "\n",
    "cv = CountVectorizer(max_features = 5000, stop_words = 'english')"
   ]
  },
  {
   "cell_type": "code",
   "execution_count": 13,
   "metadata": {},
   "outputs": [
    {
     "data": {
      "text/plain": [
       "437     Another Werewolf: The Apocalypse 20th ed quest...\n",
       "1852    Obsidian Entertainment to be Bought out by Mic...\n",
       "572     Medieval, realistic rpg systems?Hello! I've go...\n",
       "1218    JRPGS with intuitive progression systems and f...\n",
       "1550    What is your favorite kind of prologue? (the f...\n",
       "Name: alltext, dtype: object"
      ]
     },
     "execution_count": 13,
     "metadata": {},
     "output_type": "execute_result"
    }
   ],
   "source": [
    "X_train.head()"
   ]
  },
  {
   "cell_type": "code",
   "execution_count": 14,
   "metadata": {},
   "outputs": [],
   "source": [
    "# apply our CountVectorizer \n",
    "X_train_cv = pd.DataFrame(cv.fit_transform(X_train).todense(),\n",
    "                          columns = cv.get_feature_names())\n",
    "X_test_cv = pd.DataFrame(cv.transform(X_test).todense(),\n",
    "                         columns = cv.get_feature_names())"
   ]
  },
  {
   "cell_type": "code",
   "execution_count": 15,
   "metadata": {},
   "outputs": [
    {
     "data": {
      "text/html": [
       "<div>\n",
       "<style scoped>\n",
       "    .dataframe tbody tr th:only-of-type {\n",
       "        vertical-align: middle;\n",
       "    }\n",
       "\n",
       "    .dataframe tbody tr th {\n",
       "        vertical-align: top;\n",
       "    }\n",
       "\n",
       "    .dataframe thead th {\n",
       "        text-align: right;\n",
       "    }\n",
       "</style>\n",
       "<table border=\"1\" class=\"dataframe\">\n",
       "  <thead>\n",
       "    <tr style=\"text-align: right;\">\n",
       "      <th></th>\n",
       "      <th>00</th>\n",
       "      <th>000</th>\n",
       "      <th>01</th>\n",
       "      <th>03</th>\n",
       "      <th>04</th>\n",
       "      <th>06</th>\n",
       "      <th>07</th>\n",
       "      <th>08</th>\n",
       "      <th>09</th>\n",
       "      <th>10</th>\n",
       "      <th>...</th>\n",
       "      <th>youtube</th>\n",
       "      <th>ys</th>\n",
       "      <th>zelda</th>\n",
       "      <th>zero</th>\n",
       "      <th>zodiac</th>\n",
       "      <th>zombie</th>\n",
       "      <th>zombies</th>\n",
       "      <th>zone</th>\n",
       "      <th>zones</th>\n",
       "      <th>zweihander</th>\n",
       "    </tr>\n",
       "  </thead>\n",
       "  <tbody>\n",
       "    <tr>\n",
       "      <th>0</th>\n",
       "      <td>0</td>\n",
       "      <td>0</td>\n",
       "      <td>0</td>\n",
       "      <td>0</td>\n",
       "      <td>0</td>\n",
       "      <td>0</td>\n",
       "      <td>0</td>\n",
       "      <td>0</td>\n",
       "      <td>0</td>\n",
       "      <td>0</td>\n",
       "      <td>...</td>\n",
       "      <td>0</td>\n",
       "      <td>0</td>\n",
       "      <td>0</td>\n",
       "      <td>0</td>\n",
       "      <td>0</td>\n",
       "      <td>0</td>\n",
       "      <td>0</td>\n",
       "      <td>0</td>\n",
       "      <td>0</td>\n",
       "      <td>0</td>\n",
       "    </tr>\n",
       "    <tr>\n",
       "      <th>1</th>\n",
       "      <td>0</td>\n",
       "      <td>0</td>\n",
       "      <td>0</td>\n",
       "      <td>0</td>\n",
       "      <td>0</td>\n",
       "      <td>0</td>\n",
       "      <td>0</td>\n",
       "      <td>2</td>\n",
       "      <td>0</td>\n",
       "      <td>0</td>\n",
       "      <td>...</td>\n",
       "      <td>0</td>\n",
       "      <td>0</td>\n",
       "      <td>0</td>\n",
       "      <td>0</td>\n",
       "      <td>0</td>\n",
       "      <td>0</td>\n",
       "      <td>0</td>\n",
       "      <td>0</td>\n",
       "      <td>0</td>\n",
       "      <td>0</td>\n",
       "    </tr>\n",
       "    <tr>\n",
       "      <th>2</th>\n",
       "      <td>0</td>\n",
       "      <td>0</td>\n",
       "      <td>0</td>\n",
       "      <td>0</td>\n",
       "      <td>0</td>\n",
       "      <td>2</td>\n",
       "      <td>0</td>\n",
       "      <td>2</td>\n",
       "      <td>0</td>\n",
       "      <td>0</td>\n",
       "      <td>...</td>\n",
       "      <td>2</td>\n",
       "      <td>0</td>\n",
       "      <td>0</td>\n",
       "      <td>0</td>\n",
       "      <td>0</td>\n",
       "      <td>0</td>\n",
       "      <td>0</td>\n",
       "      <td>0</td>\n",
       "      <td>0</td>\n",
       "      <td>0</td>\n",
       "    </tr>\n",
       "    <tr>\n",
       "      <th>3</th>\n",
       "      <td>0</td>\n",
       "      <td>0</td>\n",
       "      <td>0</td>\n",
       "      <td>0</td>\n",
       "      <td>0</td>\n",
       "      <td>0</td>\n",
       "      <td>0</td>\n",
       "      <td>0</td>\n",
       "      <td>0</td>\n",
       "      <td>1</td>\n",
       "      <td>...</td>\n",
       "      <td>0</td>\n",
       "      <td>0</td>\n",
       "      <td>0</td>\n",
       "      <td>0</td>\n",
       "      <td>0</td>\n",
       "      <td>0</td>\n",
       "      <td>0</td>\n",
       "      <td>0</td>\n",
       "      <td>0</td>\n",
       "      <td>0</td>\n",
       "    </tr>\n",
       "    <tr>\n",
       "      <th>4</th>\n",
       "      <td>0</td>\n",
       "      <td>0</td>\n",
       "      <td>0</td>\n",
       "      <td>0</td>\n",
       "      <td>0</td>\n",
       "      <td>0</td>\n",
       "      <td>0</td>\n",
       "      <td>0</td>\n",
       "      <td>0</td>\n",
       "      <td>0</td>\n",
       "      <td>...</td>\n",
       "      <td>0</td>\n",
       "      <td>0</td>\n",
       "      <td>0</td>\n",
       "      <td>0</td>\n",
       "      <td>0</td>\n",
       "      <td>0</td>\n",
       "      <td>0</td>\n",
       "      <td>0</td>\n",
       "      <td>0</td>\n",
       "      <td>0</td>\n",
       "    </tr>\n",
       "  </tbody>\n",
       "</table>\n",
       "<p>5 rows × 5000 columns</p>\n",
       "</div>"
      ],
      "text/plain": [
       "   00  000  01  03  04  06  07  08  09  10     ...      youtube  ys  zelda  \\\n",
       "0   0    0   0   0   0   0   0   0   0   0     ...            0   0      0   \n",
       "1   0    0   0   0   0   0   0   2   0   0     ...            0   0      0   \n",
       "2   0    0   0   0   0   2   0   2   0   0     ...            2   0      0   \n",
       "3   0    0   0   0   0   0   0   0   0   1     ...            0   0      0   \n",
       "4   0    0   0   0   0   0   0   0   0   0     ...            0   0      0   \n",
       "\n",
       "   zero  zodiac  zombie  zombies  zone  zones  zweihander  \n",
       "0     0       0       0        0     0      0           0  \n",
       "1     0       0       0        0     0      0           0  \n",
       "2     0       0       0        0     0      0           0  \n",
       "3     0       0       0        0     0      0           0  \n",
       "4     0       0       0        0     0      0           0  \n",
       "\n",
       "[5 rows x 5000 columns]"
      ]
     },
     "execution_count": 15,
     "metadata": {},
     "output_type": "execute_result"
    }
   ],
   "source": [
    "X_train_cv.head()"
   ]
  },
  {
   "cell_type": "code",
   "execution_count": 16,
   "metadata": {},
   "outputs": [
    {
     "data": {
      "text/plain": [
       "0.963855421686747"
      ]
     },
     "execution_count": 16,
     "metadata": {},
     "output_type": "execute_result"
    }
   ],
   "source": [
    "# With a large amount of text data like this, I'm feeling good about a Naive-Bayes model\n",
    "nb = MultinomialNB(alpha=0.01)\n",
    "model = nb.fit(X_train_cv, y_train)\n",
    "model.score(X_train_cv, y_train)"
   ]
  },
  {
   "cell_type": "code",
   "execution_count": 17,
   "metadata": {},
   "outputs": [
    {
     "data": {
      "text/plain": [
       "0.9498997995991983"
      ]
     },
     "execution_count": 17,
     "metadata": {},
     "output_type": "execute_result"
    }
   ],
   "source": [
    "model.score(X_test_cv, y_test)"
   ]
  },
  {
   "cell_type": "code",
   "execution_count": 18,
   "metadata": {},
   "outputs": [],
   "source": [
    "# # NB looks really good. Next we tried a RandomForestClassifier was very much overfit.\n",
    "# # Let's see how a Gridsearch helps\n",
    "# rf = RandomForestClassifier()\n",
    "# rf_params = {\n",
    "#     'n_estimators': [ 400,500,600],\n",
    "#     'max_depth': [None, 2,5],\n",
    "#     'min_samples_split': [1.0,2,10]\n",
    "# }\n",
    "# gs = GridSearchCV(rf, param_grid=rf_params)\n",
    "# gs.fit(X_train_cv, y_train)\n",
    "# print(gs.best_score_)\n",
    "# gs.best_params_"
   ]
  },
  {
   "cell_type": "code",
   "execution_count": 19,
   "metadata": {},
   "outputs": [
    {
     "data": {
      "text/plain": [
       "RandomForestClassifier(bootstrap=True, class_weight=None, criterion='gini',\n",
       "            max_depth=None, max_features='auto', max_leaf_nodes=None,\n",
       "            min_impurity_decrease=0.0, min_impurity_split=None,\n",
       "            min_samples_leaf=1, min_samples_split=2,\n",
       "            min_weight_fraction_leaf=0.0, n_estimators=500, n_jobs=None,\n",
       "            oob_score=False, random_state=None, verbose=0,\n",
       "            warm_start=False)"
      ]
     },
     "execution_count": 19,
     "metadata": {},
     "output_type": "execute_result"
    }
   ],
   "source": [
    "# NB looks pretty good! Now, as per the prompt, to try running a random forest\n",
    "rf = RandomForestClassifier(min_samples_split=2,n_estimators=500)\n",
    "\n",
    "rf.fit(X_train_cv,y_train)"
   ]
  },
  {
   "cell_type": "code",
   "execution_count": 20,
   "metadata": {},
   "outputs": [
    {
     "data": {
      "text/plain": [
       "1.0"
      ]
     },
     "execution_count": 20,
     "metadata": {},
     "output_type": "execute_result"
    }
   ],
   "source": [
    "rf.score(X_train_cv,y_train)"
   ]
  },
  {
   "cell_type": "code",
   "execution_count": 21,
   "metadata": {
    "scrolled": true
   },
   "outputs": [
    {
     "data": {
      "text/plain": [
       "0.9218436873747495"
      ]
     },
     "execution_count": 21,
     "metadata": {},
     "output_type": "execute_result"
    }
   ],
   "source": [
    "rf.score(X_test_cv,y_test)"
   ]
  },
  {
   "cell_type": "markdown",
   "metadata": {},
   "source": [
    "## But wait, there's less!\n",
    "\n",
    "This all got pretty technical, but we here at Brakefield Enterprises always want to put our clients first. That's why we've packaged our model into a single, user-friendly Python function! Simply input the URL of your target subreddit and let the **Brakefield Enterprises RPG Classifier&trade;** do the rest!"
   ]
  },
  {
   "cell_type": "code",
   "execution_count": 22,
   "metadata": {},
   "outputs": [],
   "source": [
    "# build a single function to export and run in a single cell! So convenient!\n",
    "def rpg_classify(suburl):\n",
    "    print(\"Importing Modules...\")\n",
    "    import pandas as pd\n",
    "    from sklearn.feature_extraction.text import CountVectorizer\n",
    "    from sklearn.model_selection import train_test_split\n",
    "\n",
    "    from sklearn.naive_bayes import MultinomialNB\n",
    "\n",
    "    import requests\n",
    "    import time\n",
    "    import json\n",
    "    from IPython.display import clear_output\n",
    "    \n",
    "    # first let's build our model. It will read in our data:\n",
    "    clear_output()\n",
    "    print(\"Reading Data...\")\n",
    "    dfpp = pd.read_csv('./data/pen-and-paper.csv')\n",
    "    dfvg = pd.read_csv('./data/video-game.csv')\n",
    "    \n",
    "    dfpp['sub'] = 1\n",
    "    dfvg['sub'] = 0\n",
    "    df = pd.concat([dfpp,dfvg])\n",
    "    df.reset_index(drop=True,inplace=True)\n",
    "    df.drop(columns=['name','url'],inplace=True)\n",
    "    \n",
    "    def text_blob(row):\n",
    "        if type(df['comments'][row]) == str:\n",
    "            return df['text'][row] + df['comments'][row]\n",
    "        else:\n",
    "            return df['text'][row]\n",
    "    \n",
    "    df['alltext'] = [text_blob(i) for i in range(len(df))]\n",
    "\n",
    "    X = df['alltext']\n",
    "    y = df['sub']\n",
    "    X_train,X_test,y_train,y_test = train_test_split(X,y,stratify=y,random_state=42)\n",
    "    \n",
    "    # we'll vectorize the data too, but that won't get a print statement\n",
    "    cv = CountVectorizer(max_features = 4000, stop_words = 'english')\n",
    "    X_train_cv = pd.DataFrame(cv.fit_transform(X_train).todense(),\n",
    "                          columns = cv.get_feature_names())\n",
    "    \n",
    "    # second, let's instantiate and fit our Naive-Bayes model\n",
    "    clear_output()\n",
    "    print(\"Building Model...\")\n",
    "    nb = MultinomialNB(alpha=0.01)\n",
    "    model = nb.fit(X_train_cv, y_train)\n",
    "    \n",
    "    # And now we'll repeat our earlier steps to read in our posts\n",
    "    clear_output()\n",
    "    print(\"Reading Posts...\")\n",
    "    posts = []\n",
    "    after = None\n",
    "    headers = {'User-agent':'BBLab03'}\n",
    "\n",
    "    # iterating any more than this is a waste.\n",
    "    for i in range(40):\n",
    "        # our API scrape uses Reddit's 'after' parameter\n",
    "        if after == None:\n",
    "            params = {}\n",
    "        else:\n",
    "            params = {'after':after}\n",
    "\n",
    "        url = suburl+'.json'\n",
    "        res = requests.get(url, params = params, headers=headers)\n",
    "        # A quick check that everything is coming through alright\n",
    "        if res.status_code == 200:\n",
    "            the_json = res.json()\n",
    "            # add to posts\n",
    "            posts.extend(the_json['data']['children'])\n",
    "            after = the_json['data']['after']\n",
    "        # Print any error codes that come up\n",
    "        else:\n",
    "            print(res.status_code)\n",
    "            break\n",
    "        # Print something to make sure progress happens while the program runs \n",
    "        if i % 10 == 0:\n",
    "            headers['User-agent'] = 'BBLab03-'+str(i)\n",
    "            clear_output()\n",
    "            print(\"Reading Posts...\")\n",
    "            print(str((i)*25)+\" posts so far.\")\n",
    "        # make sure not to overload Reddit with requests!\n",
    "        time.sleep(.25)\n",
    "    \n",
    "    clear_output()\n",
    "    print(\"Formatting Posts...\")\n",
    "    # that read in all our posts. Now we extract what info we need into a dataframe\n",
    "    list_of_lists = []\n",
    "    # iterate over the posts\n",
    "    for i in range(len(posts)):\n",
    "        # fill in our desired fields\n",
    "        sub = posts[i]['data']['subreddit']\n",
    "        name = posts[i]['data']['name']\n",
    "        title = posts[i]['data']['title']\n",
    "        body = posts[i]['data']['selftext']\n",
    "        suffix = posts[i]['data']['permalink']\n",
    "        url = 'https://www.reddit.com'+ str(suffix)\n",
    "        text = title + body\n",
    "        row = [sub,name,text,url,None]\n",
    "        # Here's where I catch duplicates\n",
    "        if row not in list_of_lists:\n",
    "            list_of_lists.append(row)\n",
    "    # Here I put my list into an easy-to-use DataFrame!    \n",
    "    df = pd.DataFrame(data=list_of_lists,columns=['sub','name','text','url','comments'])\n",
    "    \n",
    "    # iterate over the dataframe\n",
    "    for row in range(len(df)):\n",
    "        # finish formatting the url address\n",
    "        url = str(df['url'][row]+'.json')\n",
    "        res = requests.get(url,headers=headers)\n",
    "        the_json = res.json()\n",
    "        # empty list for depositing our comments\n",
    "        comment_list = []\n",
    "        # A quick check to skip over comment-less posts\n",
    "        if the_json[1]['data']['children']:\n",
    "            for comment in range(len(the_json[1]['data']['children'])):\n",
    "                # the Reddit API doesn't give body text for more than 50 comments on a single\n",
    "                # post\n",
    "                if comment <= 50:\n",
    "                    try:\n",
    "                        comment_list.append(the_json[1]['data']['children'][comment]['data']['body'])\n",
    "                    except KeyError:\n",
    "                        print('We got some invalid comments!')\n",
    "                        print(\"row: \",row,'; comment: ',comment)\n",
    "                        break\n",
    "                    df['comments'][row] = comment_list\n",
    "        # print to ensure the program runs, delay it enough that it doesn't clog up the series\n",
    "        # of tubes\n",
    "        if row % 10 == 0:\n",
    "            clear_output()\n",
    "            print(\"Reading Comments...\")\n",
    "            print(str(row)+\" rows down!\")\n",
    "        time.sleep(.07)\n",
    "    \n",
    "    clear_output()\n",
    "    print(\"Formatting Text...\")\n",
    "    def text_blob(row):\n",
    "        if type(df['comments'][row]) == str:\n",
    "            return df['text'][row] + df['comments'][row]\n",
    "        else:\n",
    "            return df['text'][row]\n",
    "\n",
    "    df['alltext'] = [text_blob(i) for i in range(len(df))]\n",
    "    \n",
    "    clear_output()\n",
    "    print(\"Classifying Subreddit...\")\n",
    "    X = df['alltext']\n",
    "    X_cv = pd.DataFrame(cv.transform(X).todense(),\n",
    "                         columns = cv.get_feature_names())\n",
    "    \n",
    "    # since 1=pen and paper and 0=video game, rounding the mean of all posts' predictions\n",
    "    # will give the model its classification!\n",
    "    subscore = model.predict(X_cv).mean()\n",
    "    if subscore >= 0.5:\n",
    "        print(\"This is a pen-and-paper RPG subreddit!\")\n",
    "    elif (subscore >= 0) & (subscore < 0.5):\n",
    "        print(\"This is a video game RPG subreddit!\")\n",
    "    else:\n",
    "        print(\"Something has gone horribly wrong!\")\n",
    "        "
   ]
  },
  {
   "cell_type": "code",
   "execution_count": null,
   "metadata": {},
   "outputs": [],
   "source": []
  }
 ],
 "metadata": {
  "kernelspec": {
   "display_name": "Python 3",
   "language": "python",
   "name": "python3"
  },
  "language_info": {
   "codemirror_mode": {
    "name": "ipython",
    "version": 3
   },
   "file_extension": ".py",
   "mimetype": "text/x-python",
   "name": "python",
   "nbconvert_exporter": "python",
   "pygments_lexer": "ipython3",
   "version": "3.6.6"
  }
 },
 "nbformat": 4,
 "nbformat_minor": 2
}
